{
 "cells": [
  {
   "cell_type": "code",
   "execution_count": 1,
   "metadata": {},
   "outputs": [],
   "source": [
    "from sklearn.model_selection import GridSearchCV\n",
    "from xgboost import XGBClassifier"
   ]
  },
  {
   "cell_type": "code",
   "execution_count": 2,
   "metadata": {},
   "outputs": [],
   "source": [
    "import pandas as pd\n",
    "from imblearn.over_sampling import SMOTE\n",
    "from sklearn.model_selection import train_test_split\n",
    "\n",
    "df = pd.read_csv('C:/ML_project_predict_heart_disease/data/heart_2020_final.csv')\n",
    "df.dropna(axis = 0, inplace = True)\n",
    "X = df.drop(columns = ['HeartDisease']).values\n",
    "y = df['HeartDisease']\n",
    "\n",
    "smote = SMOTE(random_state = 42)\n",
    "X_smote, y_smote = smote.fit_resample(X,y)"
   ]
  },
  {
   "cell_type": "code",
   "execution_count": 3,
   "metadata": {},
   "outputs": [],
   "source": [
    "import numpy as np\n",
    "from sklearn.model_selection import KFold\n",
    "from sklearn.metrics import confusion_matrix, accuracy_score, precision_score, recall_score, f1_score\n",
    "from sklearn.metrics import roc_auc_score\n",
    "\n",
    "from lightgbm import LGBMClassifier\n",
    "from xgboost import XGBClassifier\n",
    "\n",
    "from imblearn.over_sampling import SMOTE\n",
    "\n",
    "def fold_K(X, y, model):    \n",
    "    kf = KFold(n_splits = 5, shuffle = True, random_state = 42)\n",
    "    acc_test_score = []\n",
    "    acc_train_score = []\n",
    "    rec_test_score = []\n",
    "    rec_train_score = []\n",
    "    \n",
    "    for train_index, test_index in kf.split(X): # 5번\n",
    "        X_train, X_test = X[train_index], X[test_index]\n",
    "        y_train, y_test = y[train_index], y[test_index]\n",
    "        model.fit(X_train, y_train)\n",
    "        y_pred = model.predict(X_test)\n",
    "        y_pred_train = model.predict(X_train)\n",
    "\n",
    "        acc_train_score.append(accuracy_score(y_train,y_pred_train))\n",
    "        acc_test_score.append(accuracy_score(y_test,y_pred))\n",
    "        \n",
    "        rec_train_score.append(recall_score(y_train , y_pred_train))\n",
    "        rec_test_score.append(recall_score(y_test , y_pred))\n",
    "\n",
    "        \n",
    "    print('정확도 : train score : {}'.format(np.array(acc_train_score).mean()))\n",
    "    print('정확도 : test score : {}'.format(np.array(acc_test_score).mean()))\n",
    "    print('재현율 : train score : {}'.format(np.array(rec_train_score).mean()))\n",
    "    print('재현율 : test score : {}'.format(np.array(rec_test_score).mean()))"
   ]
  },
  {
   "cell_type": "code",
   "execution_count": null,
   "metadata": {},
   "outputs": [],
   "source": [
    "# xgb = XGBClassifier(random_state=42, tree_method='gpu_hist')\n",
    "# X_smote_train , X_smote_test , y_smote_train , y_smote_test = train_test_split(X_smote,y_smote,test_size = 0.2 , random_state=42)\n",
    "# # Grid Search에 사용할 하이퍼파라미터 값 설정\n",
    "# param_grid = {\n",
    "#     'learning_rate': [ 0.01,0.1, 0.05,],\n",
    "#     'n_estimators': [100, 200],\n",
    "#     'max_depth': [3, 5, 7],\n",
    "#     'min_child_weight': [2,3, 4 ],\n",
    "#     'max_leaf_nodes' : [2,3,4], \n",
    "#     'subsample': [0.9 ,1],\n",
    "#     'colsample_bytree': [0.8,1]\n",
    "# }\n",
    "\n",
    "# # Grid Search 수행\n",
    "# grid_search = GridSearchCV(estimator=xgb, param_grid=param_grid, cv=3)\n",
    "# grid_search.fit(X_smote_train, y_smote_train)"
   ]
  },
  {
   "cell_type": "code",
   "execution_count": 5,
   "metadata": {},
   "outputs": [
    {
     "name": "stdout",
     "output_type": "stream",
     "text": [
      "정확도 : train score : 0.9366433051647263\n",
      "정확도 : test score : 0.9342426484002667\n",
      "재현율 : train score : 0.8970401234704963\n",
      "재현율 : test score : 0.894614708024282\n"
     ]
    }
   ],
   "source": [
    "xgb = XGBClassifier(random_state = 42)\n",
    "fold_K(X_smote, y_smote, xgb)"
   ]
  },
  {
   "cell_type": "code",
   "execution_count": null,
   "metadata": {},
   "outputs": [],
   "source": []
  }
 ],
 "metadata": {
  "kernelspec": {
   "display_name": "base",
   "language": "python",
   "name": "python3"
  },
  "language_info": {
   "codemirror_mode": {
    "name": "ipython",
    "version": 3
   },
   "file_extension": ".py",
   "mimetype": "text/x-python",
   "name": "python",
   "nbconvert_exporter": "python",
   "pygments_lexer": "ipython3",
   "version": "3.9.13"
  },
  "orig_nbformat": 4,
  "vscode": {
   "interpreter": {
    "hash": "54f843e2d25d3a59c86748e7da2acead36750f0d182112685aa834d50ad6fdc4"
   }
  }
 },
 "nbformat": 4,
 "nbformat_minor": 2
}
