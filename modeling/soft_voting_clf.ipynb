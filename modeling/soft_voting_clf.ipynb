{
 "cells": [
  {
   "cell_type": "code",
   "execution_count": 1,
   "metadata": {},
   "outputs": [],
   "source": [
    "from catboost import CatBoostClassifier\n",
    "from xgboost import XGBClassifier\n",
    "import numpy as np\n",
    "from sklearn.model_selection import KFold\n",
    "from sklearn.metrics import confusion_matrix, accuracy_score, precision_score, recall_score, f1_score\n",
    "from sklearn.metrics import roc_auc_score\n",
    "def fold_K(X, y, model):    \n",
    "    kf = KFold(n_splits = 5, shuffle = True, random_state = 42)\n",
    "    acc_test_score = []\n",
    "    acc_train_score = []\n",
    "    rec_test_score = []\n",
    "    rec_train_score = []\n",
    "    \n",
    "    for train_index, test_index in kf.split(X): # 5번\n",
    "        X_train, X_test = X[train_index], X[test_index]\n",
    "        y_train, y_test = y[train_index], y[test_index]\n",
    "        model.fit(X_train, y_train)\n",
    "        y_pred = model.predict(X_test)\n",
    "        y_pred_train = model.predict(X_train)\n",
    "\n",
    "        acc_train_score.append(accuracy_score(y_train,y_pred_train))\n",
    "        acc_test_score.append(accuracy_score(y_test,y_pred))\n",
    "        \n",
    "        rec_train_score.append(recall_score(y_train , y_pred_train))\n",
    "        rec_test_score.append(recall_score(y_test , y_pred))\n",
    "\n",
    "        \n",
    "    print('정확도 : train score : {}'.format(np.array(acc_train_score).mean()))\n",
    "    print('정확도 : test score : {}'.format(np.array(acc_test_score).mean()))\n",
    "    print('재현율 : train score : {}'.format(np.array(rec_train_score).mean()))\n",
    "    print('재현율 : test score : {}'.format(np.array(rec_test_score).mean()))\n"
   ]
  },
  {
   "cell_type": "code",
   "execution_count": 3,
   "metadata": {},
   "outputs": [],
   "source": [
    "import pandas as pd\n",
    "from imblearn.over_sampling import SMOTE\n",
    "from sklearn.model_selection import train_test_split\n",
    "\n",
    "df = pd.read_csv('C:/ML_project_predict_heart_disease/data/heart_2020_final.csv')\n",
    "X = df.drop(columns = ['HeartDisease']).values\n",
    "y = df['HeartDisease']\n",
    "\n",
    "smote = SMOTE(random_state = 42)\n",
    "X_smote, y_smote = smote.fit_resample(X,y)"
   ]
  },
  {
   "attachments": {},
   "cell_type": "markdown",
   "metadata": {},
   "source": [
    "#### catboost 로드"
   ]
  },
  {
   "cell_type": "code",
   "execution_count": 23,
   "metadata": {},
   "outputs": [],
   "source": [
    "from catboost import CatBoostClassifier\n",
    "catboost = CatBoostClassifier(random_state = 42,\n",
    "                            bagging_temperature = 0,\n",
    "                            depth = 9,\n",
    "                            l2_leaf_reg = 3,\n",
    "                            learning_rate =0.1,\n",
    "                            task_type = 'GPU')"
   ]
  },
  {
   "attachments": {},
   "cell_type": "markdown",
   "metadata": {},
   "source": [
    "#### xgb 로드"
   ]
  },
  {
   "cell_type": "code",
   "execution_count": 24,
   "metadata": {},
   "outputs": [],
   "source": [
    "xgb = XGBClassifier(random_state = 42,\n",
    "                    colsample_bytree = 0.8,\n",
    "                    learning_rate = 0.1,\n",
    "                    max_depth = 5,\n",
    "                    max_leaf_nodes = 2,\n",
    "                    min_child_weight = 4,\n",
    "                    n_estimators = 200,\n",
    "                    subsample = 0.9,\n",
    "                    tree_method='gpu_hist')"
   ]
  },
  {
   "attachments": {},
   "cell_type": "markdown",
   "metadata": {},
   "source": [
    "#### 소프트 보팅 적용"
   ]
  },
  {
   "cell_type": "code",
   "execution_count": 21,
   "metadata": {},
   "outputs": [],
   "source": [
    "from sklearn.ensemble import VotingClassifier\n",
    "voting_model = VotingClassifier([('CAT', catboost), ('XGB', xgb)],voting='soft')"
   ]
  },
  {
   "cell_type": "code",
   "execution_count": null,
   "metadata": {},
   "outputs": [],
   "source": [
    "fold_K(X_smote, y_smote, voting_model)"
   ]
  },
  {
   "cell_type": "code",
   "execution_count": null,
   "metadata": {},
   "outputs": [],
   "source": [
    "from sklearn.ensemble import VotingClassifier\n",
    "voting_model = VotingClassifier([('CAT', catboost), ('XGB', xgb)],voting='soft')\n",
    "fold_K(X_smote, y_smote, voting_model)"
   ]
  },
  {
   "cell_type": "code",
   "execution_count": null,
   "metadata": {},
   "outputs": [],
   "source": [
    "# 보팅 모델 fit\n",
    "voting_model.fit(X_smote, y_smote)\n",
    "\n",
    "# 모델 저장\n",
    "import joblib\n",
    "xgb.save('/content/last_voting_model.pkl') "
   ]
  },
  {
   "cell_type": "code",
   "execution_count": 31,
   "metadata": {},
   "outputs": [
    {
     "name": "stdout",
     "output_type": "stream",
     "text": [
      "[06:53:14] WARNING: C:/buildkite-agent/builds/buildkite-windows-cpu-autoscaling-group-i-08de971ced8a8cdc6-1/xgboost/xgboost-ci-windows/src/learner.cc:1098: Loading model from XGBoost < 1.0.0, consider saving it again for improved compatibility\n"
     ]
    },
    {
     "name": "stderr",
     "output_type": "stream",
     "text": [
      "c:\\Users\\wjddm\\anaconda3\\lib\\site-packages\\xgboost\\sklearn.py:782: UserWarning: Loading a native XGBoost model with Scikit-Learn interface.\n",
      "  warnings.warn(\"Loading a native XGBoost model with Scikit-Learn interface.\")\n"
     ]
    }
   ],
   "source": [
    "from xgboost import XGBClassifier\n",
    "xgb = XGBClassifier()\n",
    "xgb.load_model('C:/ML_project_predict_heart_disease/data/xgb3.pkl')"
   ]
  },
  {
   "cell_type": "code",
   "execution_count": null,
   "metadata": {},
   "outputs": [],
   "source": []
  }
 ],
 "metadata": {
  "kernelspec": {
   "display_name": "base",
   "language": "python",
   "name": "python3"
  },
  "language_info": {
   "codemirror_mode": {
    "name": "ipython",
    "version": 3
   },
   "file_extension": ".py",
   "mimetype": "text/x-python",
   "name": "python",
   "nbconvert_exporter": "python",
   "pygments_lexer": "ipython3",
   "version": "3.9.13"
  },
  "orig_nbformat": 4,
  "vscode": {
   "interpreter": {
    "hash": "54f843e2d25d3a59c86748e7da2acead36750f0d182112685aa834d50ad6fdc4"
   }
  }
 },
 "nbformat": 4,
 "nbformat_minor": 2
}
