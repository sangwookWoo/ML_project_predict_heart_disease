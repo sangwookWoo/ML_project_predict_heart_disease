{
 "cells": [
  {
   "cell_type": "code",
   "execution_count": 17,
   "metadata": {},
   "outputs": [],
   "source": [
    "import pandas as pd\n",
    "df = pd.read_csv('C:/ML_project_predict_heart_disease/data/heart_2020_final.csv')\n",
    "X = df.drop(columns = 'HeartDisease').values\n",
    "y = df['HeartDisease']"
   ]
  },
  {
   "cell_type": "code",
   "execution_count": null,
   "metadata": {},
   "outputs": [],
   "source": []
  },
  {
   "cell_type": "code",
   "execution_count": 22,
   "metadata": {},
   "outputs": [],
   "source": [
    "import numpy as np\n",
    "from sklearn.model_selection import KFold\n",
    "from sklearn.metrics import confusion_matrix, accuracy_score, precision_score, recall_score, f1_score\n",
    "from sklearn.metrics import roc_auc_score\n",
    "\n",
    "from lightgbm import LGBMClassifier\n",
    "from catboost import CatBoostClassifier\n",
    "from xgboost import XGBClassifier\n",
    "\n",
    "from imblearn.over_sampling import SMOTE\n",
    "\n",
    "def fold_K(X, y, model):    \n",
    "    kf = KFold(n_splits = 5, shuffle = True, random_state = 42)\n",
    "    acc_test_score = []\n",
    "    acc_train_score = []\n",
    "    rec_test_score = []\n",
    "    rec_train_score = []\n",
    "    \n",
    "    for train_index, test_index in kf.split(X): # 5번\n",
    "        X_train, X_test = X[train_index], X[test_index]\n",
    "        y_train, y_test = y[train_index], y[test_index]\n",
    "        model.fit(X_train, y_train)\n",
    "        y_pred = model.predict(X_test)\n",
    "        y_pred_train = model.predict(X_train)\n",
    "\n",
    "        acc_train_score.append(accuracy_score(y_train,y_pred_train))\n",
    "        acc_test_score.append(accuracy_score(y_test,y_pred))\n",
    "        \n",
    "        rec_train_score.append(recall_score(y_train , y_pred_train))\n",
    "        rec_test_score.append(recall_score(y_test , y_pred))\n",
    "\n",
    "        \n",
    "    print('정확도 : train score : {}'.format(np.array(acc_train_score).mean()))\n",
    "    print('정확도 : test score : {}'.format(np.array(acc_test_score).mean()))\n",
    "    # print('재현율 : train score : {}'.format(np.array(rec_train_score).mean()))\n",
    "    # print('재현율 : test score : {}'.format(np.array(rec_test_score).mean()))\n",
    "    \n"
   ]
  },
  {
   "cell_type": "code",
   "execution_count": 23,
   "metadata": {},
   "outputs": [
    {
     "name": "stdout",
     "output_type": "stream",
     "text": [
      "[[218352   1210]\n",
      " [ 19718   2093]]\n",
      "[[54537   357]\n",
      " [ 5022   428]]\n",
      "[[218278   1140]\n",
      " [ 19992   1963]]\n",
      "[[54694   344]\n",
      " [ 4841   465]]\n",
      "[[218493   1073]\n",
      " [ 19913   1895]]\n",
      "[[54578   312]\n",
      " [ 5029   424]]\n",
      "[[218519   1136]\n",
      " [ 19751   1968]]\n",
      "[[54477   324]\n",
      " [ 5104   438]]\n",
      "[[218563   1060]\n",
      " [ 19838   1913]]\n",
      "[[54533   300]\n",
      " [ 5076   434]]\n",
      "정확도 : train score : 0.9131379732256774\n",
      "정확도 : test score : 0.9114766420727254\n",
      "재현율 : train score : 0.09016550287187867\n",
      "재현율 : test score : 0.08034456644556309\n"
     ]
    }
   ],
   "source": [
    "lgbm = LGBMClassifier(random_state = 42)\n",
    "fold_K(X, y, lgbm)"
   ]
  },
  {
   "cell_type": "code",
   "execution_count": 16,
   "metadata": {},
   "outputs": [
    {
     "name": "stdout",
     "output_type": "stream",
     "text": [
      "정확도 : train score : 0.9107640526878067\n",
      "정확도 : test score : 0.9169329203898815\n",
      "재현율 : train score : 0.13563735524083484\n",
      "재현율 : test score : 0.09750750334473024\n"
     ]
    }
   ],
   "source": [
    "xgb = XGBClassifier(random_state = 42)\n",
    "fold_K(X, y, xgb)"
   ]
  },
  {
   "cell_type": "code",
   "execution_count": null,
   "metadata": {},
   "outputs": [],
   "source": [
    "cat = CatBoostClassifier(randome_state = 42)\n",
    "fold_k(X, y, cat)"
   ]
  }
 ],
 "metadata": {
  "kernelspec": {
   "display_name": "base",
   "language": "python",
   "name": "python3"
  },
  "language_info": {
   "codemirror_mode": {
    "name": "ipython",
    "version": 3
   },
   "file_extension": ".py",
   "mimetype": "text/x-python",
   "name": "python",
   "nbconvert_exporter": "python",
   "pygments_lexer": "ipython3",
   "version": "3.9.13"
  },
  "orig_nbformat": 4,
  "vscode": {
   "interpreter": {
    "hash": "54f843e2d25d3a59c86748e7da2acead36750f0d182112685aa834d50ad6fdc4"
   }
  }
 },
 "nbformat": 4,
 "nbformat_minor": 2
}
