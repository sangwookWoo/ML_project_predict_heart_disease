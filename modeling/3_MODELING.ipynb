{
 "cells": [
  {
   "cell_type": "code",
   "execution_count": 1,
   "metadata": {},
   "outputs": [],
   "source": [
    "import pandas as pd\n",
    "df = pd.read_csv('C:/ML_project_predict_heart_disease/data/heart_2020_final.csv')\n",
    "X = df.drop(columns = 'HeartDisease')\n",
    "y = df['HeartDisease']"
   ]
  },
  {
   "cell_type": "code",
   "execution_count": null,
   "metadata": {},
   "outputs": [],
   "source": [
    "import numpy as np\n",
    "from sklearn.model_selection import KFold\n",
    "from sklearn.metrics import confusion_matrix, accuracy_score, precision_score, recall_score, f1_score\n",
    "from lightgbm import LGBMClassifier\n",
    "\n",
    "def fold_K(X, y, model):    \n",
    "    kf = KFold(n_splits = 5, shuffle = True, random_state = 42)\n",
    "    acc_test_score = []\n",
    "    acc_train_score = []\n",
    "    rec_test_score = []\n",
    "    rec_train_score = []\n",
    "    \n",
    "    for train_index, test_index in kf.split(X): # 5번\n",
    "        X_train, X_test = X[train_index], X[test_index]\n",
    "        y_train, y_test = y[train_index], y[test_index]\n",
    "        model.fit(X_train, y_train)\n",
    "        y_pred = model.predict(X_test)\n",
    "        y_pred_train = model.predict(X_train)\n",
    "\n",
    "        acc_train_score.append(accuracy_score(y_train,y_pred_train))\n",
    "        acc_test_score.append(accuracy_score(y_test,y_pred))\n",
    "        \n",
    "        rec_test_score.append(recall_score(y_test , y_pred))\n",
    "        rec_train_score.append(recall_score(y_train , y_pred_train))\n",
    "\n",
    "    print('test score : {}'.format(np.array(acc_train_score).mean()))\n",
    "    print('train score : {}'.format(np.array(acc_test_score).mean()))\n",
    "    print('test score : {}'.format(np.array(rec_test_score).mean()))\n",
    "    print('train score : {}'.format(np.array(rec_train_score).mean()))\n",
    "    \n",
    "lgbm = LGBMClassifier(random_state = 42)\n",
    "fold_K(X, y, lgbm)"
   ]
  }
 ],
 "metadata": {
  "kernelspec": {
   "display_name": "base",
   "language": "python",
   "name": "python3"
  },
  "language_info": {
   "codemirror_mode": {
    "name": "ipython",
    "version": 3
   },
   "file_extension": ".py",
   "mimetype": "text/x-python",
   "name": "python",
   "nbconvert_exporter": "python",
   "pygments_lexer": "ipython3",
   "version": "3.9.13"
  },
  "orig_nbformat": 4,
  "vscode": {
   "interpreter": {
    "hash": "54f843e2d25d3a59c86748e7da2acead36750f0d182112685aa834d50ad6fdc4"
   }
  }
 },
 "nbformat": 4,
 "nbformat_minor": 2
}
