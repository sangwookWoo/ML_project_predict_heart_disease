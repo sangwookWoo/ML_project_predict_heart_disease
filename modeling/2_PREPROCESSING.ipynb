{
 "cells": [
  {
   "cell_type": "code",
   "execution_count": 8,
   "metadata": {},
   "outputs": [],
   "source": [
    "import pandas as pd\n",
    "\n",
    "df = pd.read_csv('C:/ML_project_predict_heart_disease/data/heart_2020_cleaned.csv')"
   ]
  },
  {
   "cell_type": "code",
   "execution_count": 9,
   "metadata": {},
   "outputs": [
    {
     "name": "stdout",
     "output_type": "stream",
     "text": [
      "중복행 개수 : 18078\n"
     ]
    }
   ],
   "source": [
    "# 중복행 확인 : 18078개\n",
    "print(f'중복행 개수 : {df.duplicated().sum()}')\n",
    "\n",
    "# 중복행 제거\n",
    "df = df.drop_duplicates().reset_index(drop = True)"
   ]
  },
  {
   "cell_type": "code",
   "execution_count": 10,
   "metadata": {},
   "outputs": [],
   "source": [
    "from sklearn.preprocessing import LabelEncoder\n",
    "import re\n",
    "\n",
    "### 라벨 인코딩(컬럼 내 유니크 값 두 개)\n",
    "label_features = ['HeartDisease', 'Smoking', 'AlcoholDrinking', 'Stroke',\n",
    "                'DiffWalking', 'Sex','PhysicalActivity',\n",
    "                'Asthma', 'KidneyDisease', 'SkinCancer']\n",
    "\n",
    "for feature in label_features:\n",
    "    encoder = LabelEncoder()\n",
    "    item = df[feature].unique()\n",
    "    encoder.fit(item)\n",
    "    df[feature] = encoder.transform(df[feature])\n",
    "\n",
    "### 원핫 인코딩(컬럼 내 유니크 값 세 개 이상)\n",
    "onehot_features = ['AgeCategory', 'Race', 'GenHealth', 'Diabetic']\n",
    "df = pd.get_dummies(df, columns= onehot_features)\n",
    "df = df.rename(columns = lambda x:re.sub('[^A-Za-z0-9_]+', '', x))\n",
    "\n",
    "# # 이상치 제거 판단\n",
    "# df = df[df['BMI'] < 70]\n",
    "# df = df[df['SleepTime'] != 24]\n",
    "# df.reset_index(drop = True, inplace = True)\n",
    "\n",
    "df.to_csv('heart_2020_final.csv', index = False)"
   ]
  },
  {
   "cell_type": "code",
   "execution_count": null,
   "metadata": {},
   "outputs": [],
   "source": []
  }
 ],
 "metadata": {
  "kernelspec": {
   "display_name": "base",
   "language": "python",
   "name": "python3"
  },
  "language_info": {
   "codemirror_mode": {
    "name": "ipython",
    "version": 3
   },
   "file_extension": ".py",
   "mimetype": "text/x-python",
   "name": "python",
   "nbconvert_exporter": "python",
   "pygments_lexer": "ipython3",
   "version": "3.9.13"
  },
  "orig_nbformat": 4,
  "vscode": {
   "interpreter": {
    "hash": "54f843e2d25d3a59c86748e7da2acead36750f0d182112685aa834d50ad6fdc4"
   }
  }
 },
 "nbformat": 4,
 "nbformat_minor": 2
}
