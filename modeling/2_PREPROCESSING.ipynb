{
 "cells": [
  {
   "cell_type": "code",
   "execution_count": 49,
   "metadata": {},
   "outputs": [],
   "source": [
    "import pandas as pd\n",
    "\n",
    "df = pd.read_csv('C:/ML_project_predict_heart_disease/data/heart_2020_cleaned.csv')"
   ]
  },
  {
   "cell_type": "code",
   "execution_count": 50,
   "metadata": {},
   "outputs": [
    {
     "data": {
      "text/plain": [
       "Index(['HeartDisease', 'BMI', 'Smoking', 'AlcoholDrinking', 'Stroke',\n",
       "       'PhysicalHealth', 'MentalHealth', 'DiffWalking', 'Sex', 'AgeCategory',\n",
       "       'Race', 'Diabetic', 'PhysicalActivity', 'GenHealth', 'SleepTime',\n",
       "       'Asthma', 'KidneyDisease', 'SkinCancer'],\n",
       "      dtype='object')"
      ]
     },
     "execution_count": 50,
     "metadata": {},
     "output_type": "execute_result"
    }
   ],
   "source": [
    "df.columns"
   ]
  },
  {
   "cell_type": "code",
   "execution_count": 47,
   "metadata": {},
   "outputs": [
    {
     "name": "stdout",
     "output_type": "stream",
     "text": [
      "중복행 개수 : 18078\n"
     ]
    }
   ],
   "source": [
    "# 중복행 확인 : 18078개\n",
    "print(f'중복행 개수 : {df.duplicated().sum()}')\n",
    "\n",
    "# 중복행 제거\n",
    "df = df.drop_duplicates().reset_index(drop = True)"
   ]
  },
  {
   "cell_type": "code",
   "execution_count": 48,
   "metadata": {},
   "outputs": [],
   "source": [
    "from sklearn.preprocessing import LabelEncoder\n",
    "\n",
    "### 라벨 인코딩(컬럼 내 유니크 값 두 개)\n",
    "label_features = ['HeartDisease', 'Smoking', 'AlcoholDrinking', 'Stroke',\n",
    "                'DiffWalking', 'Sex','PhysicalActivity',\n",
    "                'Asthma', 'KidneyDisease', 'SkinCancer']\n",
    "\n",
    "for feature in label_features:\n",
    "    encoder = LabelEncoder()\n",
    "    item = df[feature].unique()\n",
    "    encoder.fit(item)\n",
    "    df[feature] = encoder.transform(df[feature])\n",
    "\n",
    "### 원핫 인코딩(컬럼 내 유니크 값 세 개 이상)\n",
    "onehot_features = ['AgeCategory', 'Race', 'GenHealth', 'Diabetic']\n",
    "df = pd.get_dummies(df, columns= onehot_features)\n",
    "df.to_csv('data/heart_2020_final.csv', index = False)"
   ]
  },
  {
   "cell_type": "code",
   "execution_count": 44,
   "metadata": {},
   "outputs": [],
   "source": [
    "answer_sheet = pd.DataFrame(columns = ['BMI', 'Smoking', 'AlcoholDrinking', 'Stroke',\n",
    "                                    'PhysicalHealth', 'MentalHealth', 'DiffWalking', 'Sex',\n",
    "                                    'PhysicalActivity', 'SleepTime', 'Asthma', 'KidneyDisease',\n",
    "                                    'SkinCancer', 'AgeCategory_18-24', 'AgeCategory_25-29',\n",
    "                                    'AgeCategory_30-34', 'AgeCategory_35-39', 'AgeCategory_40-44',\n",
    "                                    'AgeCategory_45-49', 'AgeCategory_50-54', 'AgeCategory_55-59',\n",
    "                                    'AgeCategory_60-64', 'AgeCategory_65-69', 'AgeCategory_70-74',\n",
    "                                    'AgeCategory_75-79', 'AgeCategory_80 or older',\n",
    "                                    'Race_American Indian/Alaskan Native', 'Race_Asian', 'Race_Black',\n",
    "                                    'Race_Hispanic', 'Race_Other', 'Race_White', 'GenHealth_Excellent',\n",
    "                                    'GenHealth_Fair', 'GenHealth_Good', 'GenHealth_Poor',\n",
    "                                    'GenHealth_Very good', 'Diabetic_No',\n",
    "                                    'Diabetic_No, borderline diabetes', 'Diabetic_Yes',\n",
    "                                    'Diabetic_Yes (during pregnancy)'])\n",
    "\n",
    "answer_sheet.loc[0, ['AgeCategory_18-24', 'AgeCategory_25-29',\n",
    "                    'AgeCategory_30-34', 'AgeCategory_35-39', 'AgeCategory_40-44',\n",
    "                    'AgeCategory_45-49', 'AgeCategory_50-54', 'AgeCategory_55-59',\n",
    "                    'AgeCategory_60-64', 'AgeCategory_65-69', 'AgeCategory_70-74',\n",
    "                    'AgeCategory_75-79', 'AgeCategory_80 or older',\n",
    "                    'Race_American Indian/Alaskan Native', 'Race_Asian', 'Race_Black',\n",
    "                    'Race_Hispanic', 'Race_Other', 'Race_White', 'GenHealth_Excellent',\n",
    "                    'GenHealth_Fair', 'GenHealth_Good', 'GenHealth_Poor',\n",
    "                    'GenHealth_Very good', 'Diabetic_No',\n",
    "                    'Diabetic_No, borderline diabetes', 'Diabetic_Yes',\n",
    "                    'Diabetic_Yes (during pregnancy)']] = 0"
   ]
  },
  {
   "cell_type": "code",
   "execution_count": 45,
   "metadata": {},
   "outputs": [
    {
     "data": {
      "text/html": [
       "<div>\n",
       "<style scoped>\n",
       "    .dataframe tbody tr th:only-of-type {\n",
       "        vertical-align: middle;\n",
       "    }\n",
       "\n",
       "    .dataframe tbody tr th {\n",
       "        vertical-align: top;\n",
       "    }\n",
       "\n",
       "    .dataframe thead th {\n",
       "        text-align: right;\n",
       "    }\n",
       "</style>\n",
       "<table border=\"1\" class=\"dataframe\">\n",
       "  <thead>\n",
       "    <tr style=\"text-align: right;\">\n",
       "      <th></th>\n",
       "      <th>BMI</th>\n",
       "      <th>Smoking</th>\n",
       "      <th>AlcoholDrinking</th>\n",
       "      <th>Stroke</th>\n",
       "      <th>PhysicalHealth</th>\n",
       "      <th>MentalHealth</th>\n",
       "      <th>DiffWalking</th>\n",
       "      <th>Sex</th>\n",
       "      <th>PhysicalActivity</th>\n",
       "      <th>SleepTime</th>\n",
       "      <th>...</th>\n",
       "      <th>Race_White</th>\n",
       "      <th>GenHealth_Excellent</th>\n",
       "      <th>GenHealth_Fair</th>\n",
       "      <th>GenHealth_Good</th>\n",
       "      <th>GenHealth_Poor</th>\n",
       "      <th>GenHealth_Very good</th>\n",
       "      <th>Diabetic_No</th>\n",
       "      <th>Diabetic_No, borderline diabetes</th>\n",
       "      <th>Diabetic_Yes</th>\n",
       "      <th>Diabetic_Yes (during pregnancy)</th>\n",
       "    </tr>\n",
       "  </thead>\n",
       "  <tbody>\n",
       "    <tr>\n",
       "      <th>0</th>\n",
       "      <td>NaN</td>\n",
       "      <td>NaN</td>\n",
       "      <td>NaN</td>\n",
       "      <td>NaN</td>\n",
       "      <td>NaN</td>\n",
       "      <td>NaN</td>\n",
       "      <td>NaN</td>\n",
       "      <td>NaN</td>\n",
       "      <td>NaN</td>\n",
       "      <td>NaN</td>\n",
       "      <td>...</td>\n",
       "      <td>0</td>\n",
       "      <td>0</td>\n",
       "      <td>0</td>\n",
       "      <td>0</td>\n",
       "      <td>0</td>\n",
       "      <td>0</td>\n",
       "      <td>0</td>\n",
       "      <td>0</td>\n",
       "      <td>0</td>\n",
       "      <td>0</td>\n",
       "    </tr>\n",
       "  </tbody>\n",
       "</table>\n",
       "<p>1 rows × 41 columns</p>\n",
       "</div>"
      ],
      "text/plain": [
       "   BMI Smoking AlcoholDrinking Stroke PhysicalHealth MentalHealth DiffWalking  \\\n",
       "0  NaN     NaN             NaN    NaN            NaN          NaN         NaN   \n",
       "\n",
       "   Sex PhysicalActivity SleepTime  ... Race_White GenHealth_Excellent  \\\n",
       "0  NaN              NaN       NaN  ...          0                   0   \n",
       "\n",
       "  GenHealth_Fair GenHealth_Good GenHealth_Poor GenHealth_Very good  \\\n",
       "0              0              0              0                   0   \n",
       "\n",
       "  Diabetic_No Diabetic_No, borderline diabetes Diabetic_Yes  \\\n",
       "0           0                                0            0   \n",
       "\n",
       "  Diabetic_Yes (during pregnancy)  \n",
       "0                               0  \n",
       "\n",
       "[1 rows x 41 columns]"
      ]
     },
     "execution_count": 45,
     "metadata": {},
     "output_type": "execute_result"
    }
   ],
   "source": [
    "answer_sheet"
   ]
  },
  {
   "cell_type": "code",
   "execution_count": 8,
   "metadata": {},
   "outputs": [
    {
     "name": "stderr",
     "output_type": "stream",
     "text": [
      "C:\\Users\\wjddm\\AppData\\Roaming\\Python\\Python39\\site-packages\\sklearn\\linear_model\\_logistic.py:458: ConvergenceWarning: lbfgs failed to converge (status=1):\n",
      "STOP: TOTAL NO. of ITERATIONS REACHED LIMIT.\n",
      "\n",
      "Increase the number of iterations (max_iter) or scale the data as shown in:\n",
      "    https://scikit-learn.org/stable/modules/preprocessing.html\n",
      "Please also refer to the documentation for alternative solver options:\n",
      "    https://scikit-learn.org/stable/modules/linear_model.html#logistic-regression\n",
      "  n_iter_i = _check_optimize_result(\n"
     ]
    },
    {
     "data": {
      "text/plain": [
       "['logistic.pkl']"
      ]
     },
     "execution_count": 8,
     "metadata": {},
     "output_type": "execute_result"
    }
   ],
   "source": [
    "import pandas as pd\n",
    "from sklearn.linear_model import LogisticRegression\n",
    "from sklearn.model_selection import train_test_split\n",
    "from sklearn.metrics import confusion_matrix, accuracy_score, precision_score, recall_score, f1_score\n",
    "from sklearn.metrics import roc_auc_score\n",
    "from lightgbm import LGBMClassifier\n",
    "from xgboost import XGBClassifier\n",
    "from catboost import CatBoostClassifier\n",
    "import joblib\n",
    "\n",
    "\n",
    "data =  pd.read_csv('C:/ML_project_predict_heart_disease/data/heart_2020_final.csv')\n",
    "X = data.drop(columns = 'HeartDisease')\n",
    "y = data['HeartDisease']\n",
    "lgbm = LogisticRegression()\n",
    "lgbm.fit(X, y)\n",
    "\n",
    "# 모델 저장\n",
    "joblib.dump(lgbm, 'logistic.pkl')"
   ]
  },
  {
   "cell_type": "code",
   "execution_count": null,
   "metadata": {},
   "outputs": [],
   "source": []
  }
 ],
 "metadata": {
  "kernelspec": {
   "display_name": "base",
   "language": "python",
   "name": "python3"
  },
  "language_info": {
   "codemirror_mode": {
    "name": "ipython",
    "version": 3
   },
   "file_extension": ".py",
   "mimetype": "text/x-python",
   "name": "python",
   "nbconvert_exporter": "python",
   "pygments_lexer": "ipython3",
   "version": "3.9.13"
  },
  "orig_nbformat": 4,
  "vscode": {
   "interpreter": {
    "hash": "54f843e2d25d3a59c86748e7da2acead36750f0d182112685aa834d50ad6fdc4"
   }
  }
 },
 "nbformat": 4,
 "nbformat_minor": 2
}
